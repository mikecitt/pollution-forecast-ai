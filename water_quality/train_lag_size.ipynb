{
 "cells": [
  {
   "cell_type": "markdown",
   "metadata": {},
   "source": [
    "Import Part"
   ]
  },
  {
   "cell_type": "code",
   "execution_count": 1,
   "metadata": {},
   "outputs": [],
   "source": [
    "import os\n",
    "import pandas as pd\n",
    "import numpy as np\n",
    "from matplotlib import pyplot\n",
    "from scipy import stats\n",
    "from pandas import DataFrame"
   ]
  },
  {
   "cell_type": "markdown",
   "metadata": {},
   "source": [
    "Const"
   ]
  },
  {
   "cell_type": "code",
   "execution_count": 2,
   "metadata": {},
   "outputs": [],
   "source": [
    "FILES_FOLDER_PATH = 'files_cambridgeshire_bedfordshire'\n",
    "FILE_NAME = 'cambridgeshire_bedfordshire.csv'"
   ]
  },
  {
   "cell_type": "markdown",
   "metadata": {},
   "source": [
    "Functions"
   ]
  },
  {
   "cell_type": "code",
   "execution_count": 3,
   "metadata": {},
   "outputs": [],
   "source": [
    "def remove_outliers(df: DataFrame):\n",
    "    Q1 = np.percentile(df['wqi'], 25,\n",
    "                   interpolation = 'midpoint')\n",
    " \n",
    "    Q3 = np.percentile(df['wqi'], 75,\n",
    "                    interpolation = 'midpoint')\n",
    "    IQR = Q3 - Q1\n",
    "    ''' Removing the Outliers '''\n",
    "    df = df[(df['wqi'] > (Q1 - 1.5 * IQR)) & (df['wqi'] < (Q3 + 1.5 * IQR))]\n",
    "    return df"
   ]
  },
  {
   "cell_type": "markdown",
   "metadata": {},
   "source": [
    "Loading dataset"
   ]
  },
  {
   "cell_type": "code",
   "execution_count": 4,
   "metadata": {},
   "outputs": [],
   "source": [
    "df = pd.read_csv(os.path.join(FILES_FOLDER_PATH, FILE_NAME), header=0, index_col=0)\n",
    "df.index = pd.to_datetime(df.index)\n",
    "df = df.sort_values('date', ascending=True)"
   ]
  },
  {
   "cell_type": "markdown",
   "metadata": {},
   "source": [
    "Removing outliers"
   ]
  },
  {
   "cell_type": "code",
   "execution_count": 5,
   "metadata": {},
   "outputs": [],
   "source": [
    "df = remove_outliers(df)"
   ]
  },
  {
   "cell_type": "code",
   "execution_count": 6,
   "metadata": {},
   "outputs": [],
   "source": [
    "from sklearn.ensemble import RandomForestRegressor\n",
    "from sklearn.metrics import mean_squared_error"
   ]
  },
  {
   "cell_type": "markdown",
   "metadata": {},
   "source": [
    "Sliding window"
   ]
  },
  {
   "cell_type": "code",
   "execution_count": 9,
   "metadata": {},
   "outputs": [
    {
     "name": "stdout",
     "output_type": "stream",
     "text": [
      "Lag size: 1, RMSE 7.58245\n",
      "Lag size: 2, RMSE 7.86252\n",
      "Lag size: 3, RMSE 7.85290\n",
      "Lag size: 4, RMSE 7.80802\n",
      "Lag size: 5, RMSE 8.14538\n",
      "Lag size: 6, RMSE 8.37765\n",
      "Lag size: 7, RMSE 8.39950\n",
      "Lag size: 8, RMSE 8.39740\n",
      "Lag size: 9, RMSE 8.60404\n",
      "Lag size: 10, RMSE 8.44485\n",
      "Lag size: 11, RMSE 8.36886\n",
      "Lag size: 12, RMSE 8.50237\n",
      "Lag size: 13, RMSE 8.84419\n",
      "Lag size: 14, RMSE 8.61914\n",
      "Lag size: 15, RMSE 8.81657\n",
      "Lag size: 16, RMSE 8.85953\n",
      "Lag size: 17, RMSE 8.91868\n",
      "Lag size: 18, RMSE 8.79580\n",
      "Lag size: 19, RMSE 8.80082\n",
      "Lag size: 20, RMSE 8.84684\n",
      "Lag size: 21, RMSE 8.80013\n",
      "Lag size: 22, RMSE 8.85301\n",
      "Lag size: 23, RMSE 9.02446\n",
      "Lag size: 24, RMSE 9.16742\n",
      "Lag size: 25, RMSE 9.06580\n",
      "Lag size: 26, RMSE 8.98921\n",
      "Lag size: 27, RMSE 9.23500\n",
      "Lag size: 28, RMSE 9.20613\n",
      "Lag size: 29, RMSE 9.29253\n",
      "Lag size: 30, RMSE 9.23570\n",
      "Lag size: 31, RMSE 9.07394\n",
      "Lag size: 32, RMSE 9.36435\n",
      "Lag size: 33, RMSE 9.24954\n",
      "Lag size: 34, RMSE 9.15475\n",
      "Lag size: 35, RMSE 9.11571\n",
      "Lag size: 36, RMSE 9.21065\n",
      "Lag size: 37, RMSE 9.12862\n",
      "Lag size: 38, RMSE 9.39600\n",
      "Lag size: 39, RMSE 9.30616\n",
      "Lag size: 40, RMSE 9.23815\n",
      "Lag size: 41, RMSE 9.61209\n",
      "Lag size: 42, RMSE 9.47913\n",
      "Lag size: 43, RMSE 9.37108\n",
      "Lag size: 44, RMSE 9.18146\n",
      "Lag size: 45, RMSE 9.35018\n",
      "Lag size: 46, RMSE 9.58614\n",
      "Lag size: 47, RMSE 9.44772\n",
      "Lag size: 48, RMSE 9.61260\n",
      "Lag size: 49, RMSE 9.60519\n"
     ]
    }
   ],
   "source": [
    "for step in range(1, 50):\n",
    "    values = DataFrame(df.values)\n",
    "    dataframe = DataFrame()\n",
    "    dataframe = pd.concat([values.shift(i) for i in range(step, -1, -1)], axis=1)\n",
    "    columns = []\n",
    "    for i in range(step, -1, -1):\n",
    "        t = f\"t-{i}\" if i != 0 else \"t\"\n",
    "        columns.extend([f\"{t}-x{j}\" for j in range(1, len(df.columns) + 1)])\n",
    "\n",
    "    columns = columns[:-1] + [\"y\"]\n",
    "    dataframe.columns = columns \n",
    "    dataframe = dataframe.dropna()\n",
    "\n",
    "    X = dataframe.values[:, :-1]\n",
    "    y = dataframe.values[:, -1]\n",
    "\n",
    "    train_max_index = int(len(X) * 0.8)\n",
    "    Xtrain = X[: train_max_index]\n",
    "    ytrain = y[: train_max_index]\n",
    "    Xtest = X[train_max_index:]\n",
    "    ytest= y[train_max_index:]\n",
    "\n",
    "    mdl = RandomForestRegressor(n_estimators=500, n_jobs=-1, random_state=23)\n",
    "    mdl.fit(Xtrain, ytrain)\n",
    "\n",
    "    p = mdl.predict(Xtest)\n",
    "\n",
    "    error = mean_squared_error(ytest, p)\n",
    "    print('Lag size: %d, RMSE %.5f' % (step, error))"
   ]
  }
 ],
 "metadata": {
  "interpreter": {
   "hash": "b91de8b802173af6dfc11f7b883d7dfb2f3cdaa04b3995ccff00a185232ec20f"
  },
  "kernelspec": {
   "display_name": "Python 3.7.9 ('venv': venv)",
   "language": "python",
   "name": "python3"
  },
  "language_info": {
   "codemirror_mode": {
    "name": "ipython",
    "version": 3
   },
   "file_extension": ".py",
   "mimetype": "text/x-python",
   "name": "python",
   "nbconvert_exporter": "python",
   "pygments_lexer": "ipython3",
   "version": "3.7.9"
  },
  "orig_nbformat": 4
 },
 "nbformat": 4,
 "nbformat_minor": 2
}
