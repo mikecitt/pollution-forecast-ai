{
 "cells": [
  {
   "cell_type": "markdown",
   "metadata": {},
   "source": [
    "Import Part"
   ]
  },
  {
   "cell_type": "code",
   "execution_count": 1,
   "metadata": {},
   "outputs": [],
   "source": [
    "import os\n",
    "import pandas as pd\n",
    "import numpy as np\n",
    "from matplotlib import pyplot\n",
    "from scipy import stats\n",
    "from pandas import DataFrame"
   ]
  },
  {
   "cell_type": "markdown",
   "metadata": {},
   "source": [
    "Const"
   ]
  },
  {
   "cell_type": "code",
   "execution_count": 2,
   "metadata": {},
   "outputs": [],
   "source": [
    "FILE_NAME = 'vegas.csv'"
   ]
  },
  {
   "cell_type": "markdown",
   "metadata": {},
   "source": [
    "Functions"
   ]
  },
  {
   "cell_type": "code",
   "execution_count": 3,
   "metadata": {},
   "outputs": [],
   "source": [
    "def remove_outliers(df: DataFrame):\n",
    "    Q1 = np.percentile(df['aqi'], 25,\n",
    "                   interpolation = 'midpoint')\n",
    " \n",
    "    Q3 = np.percentile(df['aqi'], 75,\n",
    "                    interpolation = 'midpoint')\n",
    "    IQR = Q3 - Q1\n",
    "    ''' Removing the Outliers '''\n",
    "    df = df[(df['aqi'] > (Q1 - 1.5 * IQR)) & (df['aqi'] < (Q3 + 1.5 * IQR))]\n",
    "    return df"
   ]
  },
  {
   "cell_type": "markdown",
   "metadata": {},
   "source": [
    "Loading dataset"
   ]
  },
  {
   "cell_type": "code",
   "execution_count": 4,
   "metadata": {},
   "outputs": [],
   "source": [
    "df = pd.read_csv(os.path.join(FILE_NAME), header=0, index_col=0)\n",
    "df.index = pd.to_datetime(df.index)\n",
    "df = df.sort_values('date_local', ascending=True)"
   ]
  },
  {
   "cell_type": "markdown",
   "metadata": {},
   "source": [
    "Removing outliers"
   ]
  },
  {
   "cell_type": "code",
   "execution_count": 5,
   "metadata": {},
   "outputs": [],
   "source": [
    "df = remove_outliers(df)"
   ]
  },
  {
   "cell_type": "code",
   "execution_count": 6,
   "metadata": {},
   "outputs": [],
   "source": [
    "from sklearn.ensemble import RandomForestRegressor\n",
    "from sklearn.metrics import mean_squared_error"
   ]
  },
  {
   "cell_type": "markdown",
   "metadata": {},
   "source": [
    "Sliding window"
   ]
  },
  {
   "cell_type": "code",
   "execution_count": 7,
   "metadata": {},
   "outputs": [
    {
     "name": "stdout",
     "output_type": "stream",
     "text": [
      "Lag size: 1, RMSE 70.47443\n",
      "Lag size: 2, RMSE 68.77820\n",
      "Lag size: 3, RMSE 68.89981\n",
      "Lag size: 4, RMSE 70.60646\n",
      "Lag size: 5, RMSE 69.71087\n",
      "Lag size: 6, RMSE 70.16673\n",
      "Lag size: 7, RMSE 70.34913\n",
      "Lag size: 8, RMSE 70.55054\n",
      "Lag size: 9, RMSE 70.55952\n",
      "Lag size: 10, RMSE 70.73288\n",
      "Lag size: 11, RMSE 71.13006\n",
      "Lag size: 12, RMSE 71.20523\n",
      "Lag size: 13, RMSE 71.68342\n",
      "Lag size: 14, RMSE 71.24856\n",
      "Lag size: 15, RMSE 71.56819\n",
      "Lag size: 16, RMSE 72.22479\n",
      "Lag size: 17, RMSE 72.10910\n",
      "Lag size: 18, RMSE 72.00070\n",
      "Lag size: 19, RMSE 73.03162\n",
      "Lag size: 20, RMSE 72.56560\n",
      "Lag size: 21, RMSE 72.76851\n",
      "Lag size: 22, RMSE 72.85962\n",
      "Lag size: 23, RMSE 72.52174\n",
      "Lag size: 24, RMSE 72.93226\n",
      "Lag size: 25, RMSE 72.86338\n",
      "Lag size: 26, RMSE 72.53363\n",
      "Lag size: 27, RMSE 73.25046\n",
      "Lag size: 28, RMSE 73.06414\n",
      "Lag size: 29, RMSE 73.52560\n",
      "Lag size: 30, RMSE 73.61654\n",
      "Lag size: 31, RMSE 73.41039\n",
      "Lag size: 32, RMSE 74.26046\n",
      "Lag size: 33, RMSE 74.22369\n",
      "Lag size: 34, RMSE 74.06352\n",
      "Lag size: 35, RMSE 74.68396\n",
      "Lag size: 36, RMSE 74.24733\n",
      "Lag size: 37, RMSE 74.69793\n",
      "Lag size: 38, RMSE 75.15988\n",
      "Lag size: 39, RMSE 74.58361\n",
      "Lag size: 40, RMSE 75.08562\n",
      "Lag size: 41, RMSE 75.68066\n",
      "Lag size: 42, RMSE 75.78733\n",
      "Lag size: 43, RMSE 75.48898\n",
      "Lag size: 44, RMSE 75.66604\n",
      "Lag size: 45, RMSE 75.45250\n",
      "Lag size: 46, RMSE 75.73640\n",
      "Lag size: 47, RMSE 75.56752\n",
      "Lag size: 48, RMSE 75.30891\n",
      "Lag size: 49, RMSE 75.09844\n"
     ]
    }
   ],
   "source": [
    "for step in range(1, 50):\n",
    "    values = DataFrame(df.values)\n",
    "    dataframe = DataFrame()\n",
    "    dataframe = pd.concat([values.shift(i) for i in range(step, -1, -1)], axis=1)\n",
    "    columns = []\n",
    "    for i in range(step, -1, -1):\n",
    "        t = f\"t-{i}\" if i != 0 else \"t\"\n",
    "        columns.extend([f\"{t}-x{j}\" for j in range(1, len(df.columns) + 1)])\n",
    "\n",
    "    columns = columns[:-1] + [\"y\"]\n",
    "    dataframe.columns = columns \n",
    "    dataframe = dataframe.dropna()\n",
    "\n",
    "    X = dataframe.values[:, :-1]\n",
    "    y = dataframe.values[:, -1]\n",
    "\n",
    "    train_max_index = int(len(X) * 0.8)\n",
    "    Xtrain = X[: train_max_index]\n",
    "    ytrain = y[: train_max_index]\n",
    "    Xtest = X[train_max_index:]\n",
    "    ytest= y[train_max_index:]\n",
    "\n",
    "    mdl = RandomForestRegressor(n_estimators=500, n_jobs=-1, random_state=23)\n",
    "    mdl.fit(Xtrain, ytrain)\n",
    "\n",
    "    p = mdl.predict(Xtest)\n",
    "\n",
    "    error = mean_squared_error(ytest, p)\n",
    "    print('Lag size: %d, RMSE %.5f' % (step, error))"
   ]
  }
 ],
 "metadata": {
  "interpreter": {
   "hash": "b91de8b802173af6dfc11f7b883d7dfb2f3cdaa04b3995ccff00a185232ec20f"
  },
  "kernelspec": {
   "display_name": "Python 3.7.9 ('venv': venv)",
   "language": "python",
   "name": "python3"
  },
  "language_info": {
   "codemirror_mode": {
    "name": "ipython",
    "version": 3
   },
   "file_extension": ".py",
   "mimetype": "text/x-python",
   "name": "python",
   "nbconvert_exporter": "python",
   "pygments_lexer": "ipython3",
   "version": "3.7.9"
  },
  "orig_nbformat": 4
 },
 "nbformat": 4,
 "nbformat_minor": 2
}
